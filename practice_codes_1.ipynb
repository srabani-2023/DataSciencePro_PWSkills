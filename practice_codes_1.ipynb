{
 "cells": [
  {
   "cell_type": "code",
   "execution_count": 2,
   "id": "8771b636-e8f8-451e-b145-cf131d5127cb",
   "metadata": {},
   "outputs": [
    {
     "name": "stdout",
     "output_type": "stream",
     "text": [
      "* \n",
      "* * \n",
      "* * * \n",
      "* * * * \n",
      "* * * * * \n"
     ]
    }
   ],
   "source": [
    "# print Pattern\n",
    "for i in range(5):\n",
    "    for j in range(i+1):\n",
    "        print(\"*\",end=' ')\n",
    "    print()"
   ]
  },
  {
   "cell_type": "code",
   "execution_count": 3,
   "id": "a66cb1b2-91c6-43ca-8df4-492fdcdfccf3",
   "metadata": {},
   "outputs": [
    {
     "name": "stdout",
     "output_type": "stream",
     "text": [
      "* * * * * \n",
      "* * * * \n",
      "* * * \n",
      "* * \n",
      "* \n"
     ]
    }
   ],
   "source": [
    "# print pattern reverse\n",
    "for i in range(5,0,-1):\n",
    "    for j in range(i,0,-1):\n",
    "        print(\"*\", end=' ')\n",
    "    print()"
   ]
  },
  {
   "cell_type": "code",
   "execution_count": 14,
   "id": "173a776b-4183-4960-98ec-3e03cdb61f8e",
   "metadata": {},
   "outputs": [
    {
     "name": "stdin",
     "output_type": "stream",
     "text": [
      "enter any text gt\n",
      "enter any text gt\n",
      "enter any text gt\n",
      "enter any text ser\n",
      "enter any text quit\n"
     ]
    },
    {
     "name": "stdout",
     "output_type": "stream",
     "text": [
      "user entered quit\n"
     ]
    }
   ],
   "source": [
    " # enter input unmless user enters quit\n",
    "UserInput =\" \"\n",
    "while UserInput!= \"quit\":\n",
    "    UserInput = input(\"enter any text\")\n",
    "else:\n",
    "    print(\"user entered quit\")"
   ]
  },
  {
   "cell_type": "code",
   "execution_count": 15,
   "id": "d6f50f94-3987-46dc-943a-0e43bd7a22af",
   "metadata": {},
   "outputs": [
    {
     "name": "stdin",
     "output_type": "stream",
     "text": [
      "enter 1st number 14\n",
      "enter 2nd number 54\n",
      "enter 3rd number 14\n"
     ]
    },
    {
     "name": "stdout",
     "output_type": "stream",
     "text": [
      "54is largest\n"
     ]
    }
   ],
   "source": [
    "# largest of 3 numbers\n",
    "num1=input(\"enter 1st number\")\n",
    "num2=input(\"enter 2nd number\")\n",
    "num3=input(\"enter 3rd number\")\n",
    "if (num1>num2)and(num1>num3):\n",
    "    largest= num1\n",
    "    print(num1, \"is largest\")\n",
    "elif (num2>num1)and(num2>num3):\n",
    "    largest= num2\n",
    "    print(f\"{largest} is largest\")\n",
    "else:\n",
    "    largest= num3\n",
    "    print(\"largest nmber is {0}\".format(largest))"
   ]
  },
  {
   "cell_type": "code",
   "execution_count": 30,
   "id": "9e617369-648f-4692-8102-5628d5ad238d",
   "metadata": {},
   "outputs": [
    {
     "name": "stdin",
     "output_type": "stream",
     "text": [
      "enter 1st number 14\n",
      "enter any of this operator( +,-,*,/,%) %\n",
      "enter 2nd number 3\n"
     ]
    },
    {
     "name": "stdout",
     "output_type": "stream",
     "text": [
      "result is 2\n"
     ]
    }
   ],
   "source": [
    "# basic calculator\n",
    "num1=int(input(\"enter 1st number\"))\n",
    "op=input(\"enter any of this operator( +,-,*,/,%)\")\n",
    "num2=input(\"enter 2nd number\")\n",
    "num2=int(num2)\n",
    "if op==\"+\":\n",
    "    ans= (num1+num2)\n",
    "    print(f\"result is {ans}\")\n",
    "elif op==\"-\":\n",
    "    ans=(num1-num2)\n",
    "    print(f\"result is {ans}\")\n",
    "elif op==\"*\":\n",
    "    ans=(num1*num2)\n",
    "    print(f\"result is {ans}\")\n",
    "elif op==\"/\":\n",
    "    ans=(num1/num2)\n",
    "    print(f\"result is {ans}\")\n",
    "elif op==\"%\":\n",
    "    ans=(num1%num2)\n",
    "    print(f\"result is {ans}\")\n",
    "else:\n",
    "    print(\"invalid operator\")"
   ]
  },
  {
   "cell_type": "code",
   "execution_count": 25,
   "id": "be1aef56-a85b-436c-9963-c5935b0ed04f",
   "metadata": {},
   "outputs": [
    {
     "name": "stdin",
     "output_type": "stream",
     "text": [
      "Enter two values:  12 14\n"
     ]
    },
    {
     "name": "stdout",
     "output_type": "stream",
     "text": [
      "Number of boys:  12\n",
      "Number of girls:  14\n"
     ]
    }
   ],
   "source": [
    "x, y = input(\"Enter two values: \").split()\n",
    "print(\"Number of boys: \", x)\n",
    "print(\"Number of girls: \", y)"
   ]
  },
  {
   "cell_type": "code",
   "execution_count": 36,
   "id": "38bad16d-51b1-4132-a364-fd9229d3bd54",
   "metadata": {},
   "outputs": [
    {
     "name": "stdin",
     "output_type": "stream",
     "text": [
      "enter 3 values: 4,7,4\n"
     ]
    },
    {
     "name": "stdout",
     "output_type": "stream",
     "text": [
      "4 7 4\n"
     ]
    },
    {
     "name": "stdin",
     "output_type": "stream",
     "text": [
      " 14 15 16\n"
     ]
    },
    {
     "name": "stdout",
     "output_type": "stream",
     "text": [
      "14 15 16\n"
     ]
    }
   ],
   "source": [
    "#multiple input in single line\n",
    "x,y,z= input(\"enter 3 values:\").split(\",\")\n",
    "print(x,y,z)\n",
    "a,b,c = map(int, input().split())\n",
    "print(a,b,c)"
   ]
  },
  {
   "cell_type": "code",
   "execution_count": 39,
   "id": "4c837750-f212-4ccf-9299-2fe39a01b7b5",
   "metadata": {},
   "outputs": [
    {
     "name": "stdin",
     "output_type": "stream",
     "text": [
      "Enter multiple values:  14 15 16 17 17 18 1 3 14 15 14 15 14 14 14 1465 16 1\n"
     ]
    },
    {
     "name": "stdout",
     "output_type": "stream",
     "text": [
      "[14, 15, 16, 17, 17, 18, 1, 3, 14, 15, 14, 15, 14, 14, 14, 1465, 16, 1]\n",
      "1\n"
     ]
    }
   ],
   "source": [
    "#take muktiple input as list in a single line \n",
    "x = list(map(int, input(\"Enter multiple values: \").split()))\n",
    "print(x)\n",
    "print(x[6])"
   ]
  },
  {
   "cell_type": "code",
   "execution_count": 1,
   "id": "ec3ab258-e00b-46e6-8eae-e1c8fa994f9d",
   "metadata": {},
   "outputs": [
    {
     "name": "stdout",
     "output_type": "stream",
     "text": [
      "i\n"
     ]
    }
   ],
   "source": [
    "# print the last letter\n",
    "a= \"srabani\"\n",
    "print(a[-1])"
   ]
  },
  {
   "cell_type": "code",
   "execution_count": 2,
   "id": "9ba4a31d-3c11-4e05-9722-475eae36fbad",
   "metadata": {},
   "outputs": [
    {
     "name": "stdout",
     "output_type": "stream",
     "text": [
      "girl\n"
     ]
    }
   ],
   "source": [
    "# print the last word\n",
    "string= \"srabani karmakar is a very good girl\"\n",
    "last_word =string.split()[-1]\n",
    "print(last_word)"
   ]
  },
  {
   "cell_type": "code",
   "execution_count": 3,
   "id": "5277184b-8b77-44e2-87e2-22a3e28d42b1",
   "metadata": {},
   "outputs": [
    {
     "name": "stdin",
     "output_type": "stream",
     "text": [
      "enter any string sraba\n"
     ]
    },
    {
     "name": "stdout",
     "output_type": "stream",
     "text": [
      "abars\n"
     ]
    }
   ],
   "source": [
    "#reverse a word\n",
    "string= input(\"enter any string\")\n",
    "length=len(string)\n",
    "reverse= string[-1:-(length+1):-1]\n",
    "print(reverse)"
   ]
  },
  {
   "cell_type": "code",
   "execution_count": 4,
   "id": "d464e3d8-b5ec-4644-a33a-5fcbc735ef0d",
   "metadata": {},
   "outputs": [
    {
     "name": "stdin",
     "output_type": "stream",
     "text": [
      "enter any string go goa gone\n"
     ]
    },
    {
     "name": "stdout",
     "output_type": "stream",
     "text": [
      "gone goa go "
     ]
    }
   ],
   "source": [
    "#reverse a sentence\n",
    "string= input(\"enter any string\")\n",
    "length= len(string.split(\" \"))\n",
    "for i in range(-1,-(length+1),-1):\n",
    "    rev=string.split()[i]\n",
    "    print(rev, end=\" \")"
   ]
  },
  {
   "cell_type": "code",
   "execution_count": 3,
   "id": "89a6e7b3-f8d5-4904-b0cd-b60be6d5dd59",
   "metadata": {},
   "outputs": [
    {
     "name": "stdin",
     "output_type": "stream",
     "text": [
      "enter your email srab@gmail.com\n"
     ]
    },
    {
     "name": "stdout",
     "output_type": "stream",
     "text": [
      "srab"
     ]
    }
   ],
   "source": [
    "# use of break statement\n",
    "#break you email at \"@\"\n",
    "email=input(\"enter your email\")\n",
    "for i in email:\n",
    "    if i==\"@\":\n",
    "        break\n",
    "    print(i,end=\"\")\n",
    "    "
   ]
  },
  {
   "cell_type": "code",
   "execution_count": null,
   "id": "b37bd991-f181-4e45-8726-0bb5f459527b",
   "metadata": {},
   "outputs": [],
   "source": []
  }
 ],
 "metadata": {
  "kernelspec": {
   "display_name": "Python 3 (ipykernel)",
   "language": "python",
   "name": "python3"
  },
  "language_info": {
   "codemirror_mode": {
    "name": "ipython",
    "version": 3
   },
   "file_extension": ".py",
   "mimetype": "text/x-python",
   "name": "python",
   "nbconvert_exporter": "python",
   "pygments_lexer": "ipython3",
   "version": "3.10.8"
  }
 },
 "nbformat": 4,
 "nbformat_minor": 5
}
