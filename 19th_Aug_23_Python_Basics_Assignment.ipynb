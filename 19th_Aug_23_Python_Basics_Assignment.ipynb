{
 "cells": [
  {
   "cell_type": "raw",
   "id": "4ae80775-4f19-4e8a-9f8f-25d1790d82ee",
   "metadata": {},
   "source": [
    "TOPIC: Python Basics Variable"
   ]
  },
  {
   "cell_type": "raw",
   "id": "4d47b773-e989-4e6a-8964-885f47001170",
   "metadata": {},
   "source": [
    "Question 1: Declare two variables, `x` and `y`, and assign them integer values. Swap the\n",
    "values of these variables without using any temporary variable.\n"
   ]
  },
  {
   "cell_type": "code",
   "execution_count": 1,
   "id": "ba1a50e7-79bd-468f-9950-077bacdfea5b",
   "metadata": {},
   "outputs": [
    {
     "name": "stdout",
     "output_type": "stream",
     "text": [
      " Before swap value of X is 10,and value of y is 30\n",
      " After swap value of X is 30,and value of y is 10\n"
     ]
    }
   ],
   "source": [
    "# Answer for Question 1: \n",
    "\n",
    "# Delcraing two variables x and y inside a function \n",
    "def swap_variables():\n",
    "    x =10\n",
    "    y =30\n",
    "    print(f\" Before swap value of X is {x},and value of y is {y}\")\n",
    "    x,y=y,x        # using tuple unpacking for swapping values\n",
    "    print(f\" After swap value of X is {x},and value of y is {y}\")\n",
    "\n",
    "swap_variables()\n"
   ]
  },
  {
   "cell_type": "raw",
   "id": "5c3f2652-9e0f-4760-83ba-8ea796d48989",
   "metadata": {},
   "source": [
    "Question 2: Create a program that calculates the area of a rectangle. Take the length and\n",
    "width as inputs from the user and store them in variables. Calculate and\n",
    "display the area."
   ]
  },
  {
   "cell_type": "code",
   "execution_count": 2,
   "id": "3192e84a-7762-480a-ab24-c3f53bdcedfb",
   "metadata": {},
   "outputs": [
    {
     "name": "stdin",
     "output_type": "stream",
     "text": [
      "Enter length of the rectangle:  5\n",
      "Enter width of the rectangle:  4\n"
     ]
    },
    {
     "name": "stdout",
     "output_type": "stream",
     "text": [
      "Area of the rectangle is:  20.0\n"
     ]
    }
   ],
   "source": [
    "# Answer for Question 2:\n",
    "\n",
    "# taking user inpt for length and width\n",
    "\n",
    "length= float(input(\"Enter length of the rectangle: \"))\n",
    "width= float(input(\"Enter width of the rectangle: \"))\n",
    "\n",
    "area = float(length*width)  # calculating the Area\n",
    "print (\"Area of the rectangle is: \",area)\n"
   ]
  },
  {
   "cell_type": "raw",
   "id": "426a1b2c-f3fd-49db-9f49-5ac5205e3361",
   "metadata": {},
   "source": [
    "Question 3 : Write a Python program that converts temperatures from Celsius to\n",
    "Fahrenheit. Take the temperature in Celsius as input, store it in a variable,\n",
    "convert it to Fahrenheit, and display the result."
   ]
  },
  {
   "cell_type": "code",
   "execution_count": 3,
   "id": "c8f286ac-8344-44bd-b144-f75e0cc2d567",
   "metadata": {},
   "outputs": [
    {
     "name": "stdin",
     "output_type": "stream",
     "text": [
      "Enter Temperature in Celcius 37\n"
     ]
    },
    {
     "name": "stdout",
     "output_type": "stream",
     "text": [
      "The input temperature in Celsius is: 37.0 degree Celsius\n",
      "The converted temperature in farenhight is: 98.60000000000001 degree Fahrenheit\n"
     ]
    }
   ],
   "source": [
    "# Answer for Question 3:\n",
    "\n",
    "temp_Celsius= float(input(\"Enter Temperature in Celcius\"))\n",
    "\n",
    "#Convert Celsius to Fahrenheit using the formula: (C * 9/5) + 32\n",
    "temp_Fahr= float( temp_Celsius*(9/5)+32) \n",
    "\n",
    "print(f\"The input temperature in Celsius is: {temp_Celsius} degree Celsius\")\n",
    "print(f\"The converted temperature in farenhight is: {temp_Fahr} degree Fahrenheit\")"
   ]
  },
  {
   "cell_type": "raw",
   "id": "9dca9b52-5116-4580-bc19-8c0634dffc42",
   "metadata": {},
   "source": [
    "TOPIC: String Based Questions"
   ]
  },
  {
   "cell_type": "raw",
   "id": "0bf44efa-2d42-4a51-8066-1a3e42343bee",
   "metadata": {},
   "source": [
    "Question 1: Write a Python program that takes a string as input and prints the length of\n",
    "the string."
   ]
  },
  {
   "cell_type": "code",
   "execution_count": 4,
   "id": "dad5cad5-f830-4cc9-8b54-2c61fa0e3e0d",
   "metadata": {},
   "outputs": [
    {
     "name": "stdin",
     "output_type": "stream",
     "text": [
      "Enter a String god\n"
     ]
    },
    {
     "name": "stdout",
     "output_type": "stream",
     "text": [
      "length of the String is 3\n"
     ]
    }
   ],
   "source": [
    "# answer for quewstion 1\n",
    "# take string as user input\n",
    "string=input(\"Enter a String\")\n",
    "\n",
    "# find the length using built in function len()\n",
    "string_length=len(string)\n",
    "print(\"length of the String is\",string_length)\n"
   ]
  },
  {
   "cell_type": "raw",
   "id": "390e473d-91e7-4e09-a0b2-4a09a87bc6db",
   "metadata": {},
   "source": [
    "Question 2: Create a program that takes a sentence from the user and counts the number\n",
    "of vowels (a, e, i, o, u) in the string."
   ]
  },
  {
   "cell_type": "code",
   "execution_count": 5,
   "id": "82e6d28a-9e93-426c-9c04-408526d78834",
   "metadata": {},
   "outputs": [
    {
     "name": "stdin",
     "output_type": "stream",
     "text": [
      "Enter a sentence aa\n"
     ]
    },
    {
     "name": "stdout",
     "output_type": "stream",
     "text": [
      "Number of vowels in the sentenceis : 2\n"
     ]
    }
   ],
   "source": [
    "# answer for quewstion 2\n",
    "# take sentence as user input\n",
    "\n",
    "\n",
    "string=input(\"Enter a sentence\")\n",
    "#conver the sentence in lowercase\n",
    "st_lower=string.lower()\n",
    "\n",
    "vowel_Count=0\n",
    "for i in st_lower:\n",
    "    if (i=='a'or i=='e'or i=='i'or i=='o'or i=='u'):   # look for\"a,e,i,o,u\" in the string\n",
    "        vowel_Count=vowel_Count+1\n",
    "print(\"Number of vowels in the sentenceis :\" ,vowel_Count)"
   ]
  },
  {
   "cell_type": "raw",
   "id": "ee343fd7-8632-4ed2-a756-ee00f388ffe1",
   "metadata": {},
   "source": [
    "Question 3: Given a string, reverse the order of characters using string slicing and print the reversed string"
   ]
  },
  {
   "cell_type": "code",
   "execution_count": 6,
   "id": "76915546-7321-4ea7-bf83-02981f8cb491",
   "metadata": {},
   "outputs": [
    {
     "name": "stdin",
     "output_type": "stream",
     "text": [
      "Enter a sentence fRR\n"
     ]
    },
    {
     "name": "stdout",
     "output_type": "stream",
     "text": [
      "Reversed String is :  RRf\n"
     ]
    }
   ],
   "source": [
    "# answer for quewstion 3\n",
    "# take sentence/string as user input\n",
    "\n",
    "string=input(\"Enter a sentence\")\n",
    "reversed_string= string[::-1]   #Use string slicing to reverse the string\n",
    "print(\"Reversed String is : \" ,reversed_string)"
   ]
  },
  {
   "cell_type": "raw",
   "id": "e15f59c8-dd85-4e05-9475-671d2afbd671",
   "metadata": {},
   "source": [
    "Question 4 : Write a program that takes a string as input and checks if it is a palindrome\n",
    "(reads the same forwards and backwards)."
   ]
  },
  {
   "cell_type": "code",
   "execution_count": 7,
   "id": "9a144a2c-1af7-46f7-862c-45a0e650e924",
   "metadata": {},
   "outputs": [
    {
     "name": "stdin",
     "output_type": "stream",
     "text": [
      "Enter a sentence gog\n"
     ]
    },
    {
     "name": "stdout",
     "output_type": "stream",
     "text": [
      "Entered string is Palindrome\n"
     ]
    }
   ],
   "source": [
    "# answer for quewstion 4\n",
    "\n",
    "\n",
    "# take sentence/string as user input\n",
    "string=input(\"Enter a sentence\")\n",
    "\n",
    "#Remove spaces and convert the input string to lowercase\n",
    "modified_string=string.replace(\" \",\"\").lower()\n",
    "\n",
    "#Useing  string slicing to reverse the string\n",
    "reversed_string= modified_string[::-1]\n",
    "\n",
    "if(modified_string==reversed_string):\n",
    "    print(\"Entered string is Palindrome\")\n",
    "else:\n",
    "    print(\"Entered string is not a Palindrome\")"
   ]
  },
  {
   "cell_type": "raw",
   "id": "75260f24-9b4e-4a8b-b98c-dbdfb5ac3e22",
   "metadata": {},
   "source": [
    "Question 5: Create a program that takes a string as input and removes all the spaces from\n",
    "it. Print the modified string without spaces."
   ]
  },
  {
   "cell_type": "code",
   "execution_count": 8,
   "id": "e67c6644-d9e7-450b-9264-9d3b5a2fa8a1",
   "metadata": {},
   "outputs": [
    {
     "name": "stdin",
     "output_type": "stream",
     "text": [
      "Enter a sentence ff gg gg\n"
     ]
    },
    {
     "name": "stdout",
     "output_type": "stream",
     "text": [
      "Modified String is  ffgggg\n"
     ]
    }
   ],
   "source": [
    "# answer for quewstion 5\n",
    "\n",
    "\n",
    "# take sentence/string as user input\n",
    "string=input(\"Enter a sentence\")\n",
    "\n",
    "#Remove spaces and modigfy the string wusing built in function replace()\n",
    "modified_string=string.replace(\" \",\"\")\n",
    "\n",
    "print(\"Modified String is \",modified_string)"
   ]
  },
  {
   "cell_type": "code",
   "execution_count": null,
   "id": "afd138ba-0437-4cbc-9e19-6bd6271bcab2",
   "metadata": {},
   "outputs": [],
   "source": []
  }
 ],
 "metadata": {
  "kernelspec": {
   "display_name": "Python 3 (ipykernel)",
   "language": "python",
   "name": "python3"
  },
  "language_info": {
   "codemirror_mode": {
    "name": "ipython",
    "version": 3
   },
   "file_extension": ".py",
   "mimetype": "text/x-python",
   "name": "python",
   "nbconvert_exporter": "python",
   "pygments_lexer": "ipython3",
   "version": "3.10.8"
  }
 },
 "nbformat": 4,
 "nbformat_minor": 5
}
