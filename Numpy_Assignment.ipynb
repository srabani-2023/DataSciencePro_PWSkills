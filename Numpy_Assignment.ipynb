{
 "cells": [
  {
   "cell_type": "markdown",
   "id": "39166a4a",
   "metadata": {},
   "source": [
    "### 1. What is a Python library? Why do we use Python libraries?"
   ]
  },
  {
   "cell_type": "code",
   "execution_count": 1,
   "id": "4e3a22e9",
   "metadata": {},
   "outputs": [],
   "source": [
    "import numpy as np\n",
    "import pandas as pd\n",
    "import matplotlib.pyplot as plt"
   ]
  },
  {
   "cell_type": "markdown",
   "id": "a29373d8",
   "metadata": {},
   "source": [
    "A Python library is a collection of pre-written code and functions that can be imported and used in your Python program. Libraries provide a set of tools and resources to perform specific tasks without having to write the code from scratch. These libraries are developed and shared by the Python community to promote code reuse and make development more efficient.\n",
    "\n",
    "There are various reasons why we use Python libraries:\n",
    "\n",
    "1. **Code Reusability**: Libraries contain pre-written code that can be reused in different projects, saving time and effort. This promotes modular and maintainable code.\n",
    "\n",
    "2. **Functionality**: Libraries provide additional functionality that may not be available in the core Python language. They extend the capabilities of Python and allow developers to perform a wide range of tasks without having to implement everything manually.\n",
    "\n",
    "3. **Efficiency**: Using well-established libraries can lead to more efficient and optimized code. Experienced developers have contributed to these libraries, ensuring they are well-tested and performant.\n",
    "\n",
    "4. **Community Support**: Popular libraries have a large community of developers who contribute to their improvement and provide support. This means you can benefit from the collective knowledge and experience of the community.\n",
    "\n",
    "5. **Specialized Tasks**: There are libraries designed for specific domains or tasks, such as data analysis, machine learning, web development, and more. These libraries often include tools and algorithms tailored to their respective fields.\n",
    "\n",
    "6. **Interoperability**: Python libraries often integrate seamlessly with other technologies, making it easier to use Python in conjunction with other programming languages or systems.\n",
    "\n",
    "7. **Rapid Development**: By leveraging existing libraries, developers can speed up the development process, focusing on higher-level logic rather than dealing with low-level details.\n"
   ]
  },
  {
   "cell_type": "markdown",
   "id": "597ade92",
   "metadata": {},
   "source": [
    "### 2. What is the difference between Numpy array and List?"
   ]
  },
  {
   "cell_type": "code",
   "execution_count": 2,
   "id": "384ea149",
   "metadata": {},
   "outputs": [
    {
     "name": "stdout",
     "output_type": "stream",
     "text": [
      "[1, 4, 9, 16, 25]\n",
      "[ 1  4  9 16 25]\n"
     ]
    }
   ],
   "source": [
    "my_list = [1, 2, 3, 4, 5]\n",
    "my_list_squared = [x**2 for x in my_list]\n",
    "print(my_list_squared)\n",
    "\n",
    "# Using NumPy arrays\n",
    "import numpy as np\n",
    "my_array = np.array([1, 2, 3, 4, 5])\n",
    "my_array_squared = my_array**2\n",
    "print(my_array_squared)"
   ]
  },
  {
   "cell_type": "markdown",
   "id": "dc49dd3b",
   "metadata": {},
   "source": [
    "While lists are more flexible and versatile, NumPy arrays are designed for numerical operations and offer better performance, memory efficiency, and a wide range of mathematical functions. The choice between them depends on the specific requirements of your task.\n",
    "\n",
    "NumPy arrays and Python lists are both used to store and manipulate collections of items, but there are several key differences between them:\n",
    "\n",
    "1. **Data Type:**\n",
    "\n",
    "   1.1. **List**: Python lists can contain elements of different data types. You can have a mix of integers, floats, strings, and other types within a single list.\n",
    "\n",
    "   1.2. **NumPy Array**: NumPy arrays are homogeneous, meaning all elements must be of the same data type. This allows for more efficient storage and operations on the data.\n",
    "\n",
    "2. **Performance:**\n",
    "\n",
    "   2.1. **List**: Lists are generally less efficient in terms of performance compared to NumPy arrays, especially when dealing with large datasets or numerical computations.\n",
    "\n",
    "   2.2. **NumPy Array**: NumPy arrays are implemented in C and are more compact in memory. They provide better performance for numerical operations due to their fixed data type and efficient memory layout.\n",
    "\n",
    "3. **Size:**\n",
    "\n",
    "   3.1. **List**: Lists are more flexible in size, and you can easily append or remove elements.\n",
    "\n",
    "   3.2. **NumPy Array**: NumPy arrays have a fixed size when created. Changing the size involves creating a new array, and therefore operations like appending or removing elements are less flexible.\n",
    "\n",
    "4. **Functionality:**\n",
    "\n",
    "   4.1. **List**: Lists provide a variety of general-purpose methods and operations. However, for numerical operations, you may need to use loops, which can be less efficient for large datasets.\n",
    "\n",
    "   4.2. **NumPy Array**: NumPy arrays come with a wide range of mathematical functions and operations that are optimized for performance. This makes them particularly suitable for numerical computations and scientific computing.\n",
    "\n",
    "5. **Syntax:**\n",
    "\n",
    "   5.1. **List**: Lists are part of the core Python language and have a simple syntax. They are created using square brackets, e.g., `my_list = [1, 2, 3]`.\n",
    "\n",
    "   5.2. **NumPy Array**: NumPy arrays are created using the `numpy.array()` function, and the syntax is slightly different, e.g., `my_array = numpy.array([1, 2, 3])`.\n"
   ]
  },
  {
   "cell_type": "markdown",
   "id": "65622a85",
   "metadata": {},
   "source": [
    "### 3. Find the shape, size and dimension of the following array?\n",
    "```python\n",
    "[[1, 2, 3, 4]\n",
    "[5, 6, 7, 8],\n",
    "[9, 10, 11, 12]]\n",
    "```"
   ]
  },
  {
   "cell_type": "code",
   "execution_count": 3,
   "id": "0ee8d18a",
   "metadata": {},
   "outputs": [
    {
     "name": "stdout",
     "output_type": "stream",
     "text": [
      "Shape: (3, 4)\n",
      "Size: 12\n",
      "Dimension: 2\n"
     ]
    }
   ],
   "source": [
    "import numpy as np\n",
    "\n",
    "arr = np.array([[1, 2, 3, 4], [5, 6, 7, 8], [9, 10, 11, 12]])\n",
    "\n",
    "shape = arr.shape\n",
    "size = arr.size\n",
    "dimension = arr.ndim\n",
    "\n",
    "print(\"Shape:\", shape)\n",
    "print(\"Size:\", size)\n",
    "print(\"Dimension:\", dimension)"
   ]
  },
  {
   "cell_type": "markdown",
   "id": "8bf56b5e",
   "metadata": {},
   "source": [
    "### 4. Write python code to access the first row of the following array?\n",
    "```python\n",
    "[[1, 2, 3, 4]\n",
    "[5, 6, 7, 8],\n",
    "[9, 10, 11, 12]]\n",
    "```"
   ]
  },
  {
   "cell_type": "code",
   "execution_count": 4,
   "id": "672416aa",
   "metadata": {},
   "outputs": [
    {
     "name": "stdout",
     "output_type": "stream",
     "text": [
      "[1 2 3 4]\n"
     ]
    }
   ],
   "source": [
    "import numpy as np\n",
    "\n",
    "arr = np.array([[1, 2, 3, 4], [5, 6, 7, 8], [9, 10, 11, 12]])\n",
    "\n",
    "first_row = arr[0, :]\n",
    "\n",
    "print(first_row)"
   ]
  },
  {
   "cell_type": "markdown",
   "id": "8a858ff2",
   "metadata": {},
   "source": [
    "### 5. How do you access the element at the third row and fourth column from the given numpy array?\n",
    "```python\n",
    "[[1, 2, 3, 4]\n",
    "[5, 6, 7, 8],\n",
    "[9, 10, 11, 12]]\n",
    "```"
   ]
  },
  {
   "cell_type": "code",
   "execution_count": 5,
   "id": "8d146444",
   "metadata": {},
   "outputs": [
    {
     "name": "stdout",
     "output_type": "stream",
     "text": [
      "12\n"
     ]
    }
   ],
   "source": [
    "import numpy as np\n",
    "\n",
    "arr = np.array([[1, 2, 3, 4], [5, 6, 7, 8], [9, 10, 11, 12]])\n",
    "\n",
    "element = arr[2, 3]\n",
    "\n",
    "print(element)"
   ]
  },
  {
   "cell_type": "markdown",
   "id": "4a29d9e2",
   "metadata": {},
   "source": [
    "### 6. Write code to extract all odd-indexed elements from the given numpy array?\n",
    "```python\n",
    "[[1, 2, 3, 4]\n",
    "[5, 6, 7, 8],\n",
    "[9, 10, 11, 12]]\n",
    "```"
   ]
  },
  {
   "cell_type": "code",
   "execution_count": 6,
   "id": "0398e1f1",
   "metadata": {},
   "outputs": [
    {
     "name": "stdout",
     "output_type": "stream",
     "text": [
      "[[ 2  4]\n",
      " [ 6  8]\n",
      " [10 12]]\n"
     ]
    }
   ],
   "source": [
    "import numpy as np\n",
    "\n",
    "arr = np.array([[1, 2, 3, 4], [5, 6, 7, 8], [9, 10, 11, 12]])\n",
    "\n",
    "odd_indexed_elements = arr[:, 1::2]\n",
    "\n",
    "print(odd_indexed_elements)"
   ]
  },
  {
   "cell_type": "markdown",
   "id": "8f2d7690",
   "metadata": {},
   "source": [
    "### 7. How can you generate a random 3x3 matrix with values between 0 and 1?\n"
   ]
  },
  {
   "cell_type": "code",
   "execution_count": 7,
   "id": "1109b9f9",
   "metadata": {},
   "outputs": [
    {
     "name": "stdout",
     "output_type": "stream",
     "text": [
      "[[0.2413283  0.7532022  0.35912867]\n",
      " [0.24866334 0.25399349 0.56991404]\n",
      " [0.36064449 0.03646373 0.99018375]]\n"
     ]
    }
   ],
   "source": [
    "\n",
    "import numpy as np\n",
    "\n",
    "random_matrix = np.random.rand(3, 3)\n",
    "\n",
    "print(random_matrix)"
   ]
  },
  {
   "cell_type": "markdown",
   "id": "e676a698",
   "metadata": {},
   "source": [
    "### 8. Describe the difference between np.random.rand and np.random.randn? np.random.rand generates random values from a uniform distribution over [0, 1)"
   ]
  },
  {
   "cell_type": "code",
   "execution_count": 8,
   "id": "d7661d9f",
   "metadata": {},
   "outputs": [
    {
     "name": "stdout",
     "output_type": "stream",
     "text": [
      "[[0.16824405 0.42020629 0.8188254 ]\n",
      " [0.67543577 0.92694825 0.88515035]\n",
      " [0.42405236 0.70294786 0.18697717]]\n",
      "[[ 0.94980974 -1.05115249  0.15399706]\n",
      " [ 0.12783998  0.08034937  0.71807079]\n",
      " [-1.75369136  0.0341414   2.2481236 ]]\n"
     ]
    }
   ],
   "source": [
    "\n",
    "random_matrix_uniform = np.random.rand(3, 3)\n",
    "print(random_matrix_uniform)\n",
    "\n",
    "# np.random.randn generates random values from a standard normal distribution (mean=0, std=1)\n",
    "random_matrix_normal = np.random.randn(3, 3)\n",
    "print(random_matrix_normal)"
   ]
  },
  {
   "cell_type": "markdown",
   "id": "8382083c",
   "metadata": {},
   "source": [
    "### 9. Write code to increase the dimension of the following array?\n",
    "```python\n",
    "[[1, 2, 3, 4]\n",
    "[5, 6, 7, 8],\n",
    "[9, 10, 11, 12]]\n",
    "```"
   ]
  },
  {
   "cell_type": "code",
   "execution_count": 9,
   "id": "8a671ea5",
   "metadata": {},
   "outputs": [
    {
     "name": "stdout",
     "output_type": "stream",
     "text": [
      "[[[ 1  2  3  4]\n",
      "  [ 5  6  7  8]\n",
      "  [ 9 10 11 12]]]\n"
     ]
    }
   ],
   "source": [
    "import numpy as np\n",
    "\n",
    "arr = np.array([[1, 2, 3, 4], [5, 6, 7, 8], [9, 10, 11, 12]])\n",
    "\n",
    "increased_dimension = np.expand_dims(arr, axis=0)\n",
    "\n",
    "print(increased_dimension)"
   ]
  },
  {
   "cell_type": "markdown",
   "id": "e061cc19",
   "metadata": {},
   "source": [
    "### 10. How to transpose the following array in NumPy?\n",
    "```python\n",
    "[[1, 2, 3, 4]\n",
    "[5, 6, 7, 8],\n",
    "[9, 10, 11, 12]]\n",
    "```"
   ]
  },
  {
   "cell_type": "code",
   "execution_count": 10,
   "id": "71a4e41f",
   "metadata": {},
   "outputs": [
    {
     "name": "stdout",
     "output_type": "stream",
     "text": [
      "[[ 1  5  9]\n",
      " [ 2  6 10]\n",
      " [ 3  7 11]\n",
      " [ 4  8 12]]\n"
     ]
    }
   ],
   "source": [
    "import numpy as np\n",
    "\n",
    "arr = np.array([[1, 2, 3, 4], [5, 6, 7, 8], [9, 10, 11, 12]])\n",
    "\n",
    "transposed_array = np.transpose(arr)\n",
    "\n",
    "print(transposed_array)"
   ]
  },
  {
   "cell_type": "markdown",
   "id": "28213ffd",
   "metadata": {},
   "source": [
    "### 11. Consider the following matrix:\n",
    "### Matrix A2 [[1, 2, 3, 4] [5, 6, 7, 8],[9, 10, 11, 12]]\n",
    "### Matrix B2 [[1, 2, 3, 4] [5, 6, 7, 8],[9, 10, 11, 12]]\n",
    "### 11.1. Index wise multiplication\n",
    "### 11.2. Matrix multiplication\n",
    "### 11.3. Add both the matrix\n",
    "### 11.4. Subtract matrix B from A \n",
    "### 11.5. Divide Matrix B by A"
   ]
  },
  {
   "cell_type": "code",
   "execution_count": 11,
   "id": "f3713fc4",
   "metadata": {},
   "outputs": [
    {
     "name": "stdout",
     "output_type": "stream",
     "text": [
      "1. Index wise multiplication:\n",
      " [[  1   4   9  16]\n",
      " [ 25  36  49  64]\n",
      " [ 81 100 121 144]]\n",
      "\n",
      "2. Matrix multiplication:\n",
      " [[ 30  70 110]\n",
      " [ 70 174 278]\n",
      " [110 278 446]]\n",
      "\n",
      "3. Matrix addition:\n",
      " [[ 2  4  6  8]\n",
      " [10 12 14 16]\n",
      " [18 20 22 24]]\n",
      "\n",
      "4. Matrix subtraction:\n",
      " [[0 0 0 0]\n",
      " [0 0 0 0]\n",
      " [0 0 0 0]]\n",
      "\n",
      "5. Matrix division:\n",
      " [[1. 1. 1. 1.]\n",
      " [1. 1. 1. 1.]\n",
      " [1. 1. 1. 1.]]\n"
     ]
    }
   ],
   "source": [
    "import numpy as np\n",
    "\n",
    "# Matrix A\n",
    "A = np.array([[1, 2, 3, 4], [5, 6, 7, 8], [9, 10, 11, 12]])\n",
    "\n",
    "# Matrix B\n",
    "B = np.array([[1, 2, 3, 4], [5, 6, 7, 8], [9, 10, 11, 12]])\n",
    "\n",
    "# 1. Index wise multiplication\n",
    "index_wise_multiplication = A * B\n",
    "\n",
    "# 2. Matrix multiplication\n",
    "matrix_multiplication = np.dot(A, B.T)\n",
    "\n",
    "# 3. Add both the matrix\n",
    "matrix_addition = A + B\n",
    "\n",
    "# 4. Subtract matrix B from A\n",
    "matrix_subtraction = A - B\n",
    "\n",
    "# 5. Divide Matrix B by A\n",
    "matrix_division = np.divide(B, A)\n",
    "\n",
    "print(\"1. Index wise multiplication:\\n\", index_wise_multiplication)\n",
    "print(\"\\n2. Matrix multiplication:\\n\", matrix_multiplication)\n",
    "print(\"\\n3. Matrix addition:\\n\", matrix_addition)\n",
    "print(\"\\n4. Matrix subtraction:\\n\", matrix_subtraction)\n",
    "print(\"\\n5. Matrix division:\\n\", matrix_division)"
   ]
  },
  {
   "cell_type": "markdown",
   "id": "d61824ba",
   "metadata": {},
   "source": [
    "### 12. Which function in Numpy can be used to swap the byte order of an array?\n"
   ]
  },
  {
   "cell_type": "code",
   "execution_count": 12,
   "id": "7ed69e84",
   "metadata": {},
   "outputs": [
    {
     "name": "stdout",
     "output_type": "stream",
     "text": [
      "[16777216 33554432 50331648 67108864]\n"
     ]
    }
   ],
   "source": [
    "import numpy as np\n",
    "\n",
    "arr = np.array([1, 2, 3, 4], dtype=np.int32)\n",
    "\n",
    "swapped_arr = arr.byteswap()\n",
    "\n",
    "print(swapped_arr)"
   ]
  },
  {
   "cell_type": "markdown",
   "id": "4db94128",
   "metadata": {},
   "source": [
    "### 13. What is the significance of the np.linalg.inv function?"
   ]
  },
  {
   "cell_type": "code",
   "execution_count": 13,
   "id": "6c18079b",
   "metadata": {},
   "outputs": [
    {
     "name": "stdout",
     "output_type": "stream",
     "text": [
      "[[-2.   1. ]\n",
      " [ 1.5 -0.5]]\n"
     ]
    }
   ],
   "source": [
    "import numpy as np\n",
    "\n",
    "# Example code for np.linalg.inv\n",
    "A = np.array([[1, 2], [3, 4]])\n",
    "\n",
    "# Calculating the inverse of matrix A\n",
    "A_inv = np.linalg.inv(A)\n",
    "\n",
    "print(A_inv)"
   ]
  },
  {
   "cell_type": "markdown",
   "id": "3be1bed1",
   "metadata": {},
   "source": [
    "### 14. What does the np.reshape function do, and how is it used?"
   ]
  },
  {
   "cell_type": "code",
   "execution_count": 14,
   "id": "2d3badc4",
   "metadata": {},
   "outputs": [
    {
     "name": "stdout",
     "output_type": "stream",
     "text": [
      "[[1 2 3]\n",
      " [4 5 6]]\n"
     ]
    }
   ],
   "source": [
    "import numpy as np\n",
    "\n",
    "# Example code for np.reshape\n",
    "arr = np.array([1, 2, 3, 4, 5, 6])\n",
    "\n",
    "# Reshaping the array to a 2x3 matrix\n",
    "reshaped_arr = np.reshape(arr, (2, 3))\n",
    "\n",
    "print(reshaped_arr)"
   ]
  },
  {
   "cell_type": "markdown",
   "id": "9a54de42",
   "metadata": {},
   "source": [
    "### 15. What is broadcasting in Numpy?"
   ]
  },
  {
   "cell_type": "code",
   "execution_count": 15,
   "id": "9e01d0c5",
   "metadata": {},
   "outputs": [
    {
     "name": "stdout",
     "output_type": "stream",
     "text": [
      "[[11 22 33]\n",
      " [14 25 36]]\n"
     ]
    }
   ],
   "source": [
    "import numpy as np\n",
    "\n",
    "# Example code for broadcasting\n",
    "A = np.array([[1, 2, 3], [4, 5, 6]])\n",
    "B = np.array([10, 20, 30])\n",
    "\n",
    "# Broadcasting - Adding a 1D array to a 2D array\n",
    "result = A + B\n",
    "\n",
    "print(result)"
   ]
  }
 ],
 "metadata": {
  "kernelspec": {
   "display_name": "Python 3 (ipykernel)",
   "language": "python",
   "name": "python3"
  },
  "language_info": {
   "codemirror_mode": {
    "name": "ipython",
    "version": 3
   },
   "file_extension": ".py",
   "mimetype": "text/x-python",
   "name": "python",
   "nbconvert_exporter": "python",
   "pygments_lexer": "ipython3",
   "version": "3.11.4"
  }
 },
 "nbformat": 4,
 "nbformat_minor": 5
}
